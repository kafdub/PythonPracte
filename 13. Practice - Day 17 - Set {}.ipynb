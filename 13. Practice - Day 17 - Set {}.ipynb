{
 "cells": [
  {
   "cell_type": "code",
   "execution_count": 3,
   "id": "8aa27ba2",
   "metadata": {},
   "outputs": [],
   "source": [
    "set = {1,2,3, 'a',(1,2,3)}"
   ]
  },
  {
   "cell_type": "code",
   "execution_count": 5,
   "id": "67b3115b",
   "metadata": {},
   "outputs": [
    {
     "data": {
      "text/plain": [
       "set"
      ]
     },
     "execution_count": 5,
     "metadata": {},
     "output_type": "execute_result"
    }
   ],
   "source": [
    "type(set)"
   ]
  },
  {
   "cell_type": "code",
   "execution_count": 4,
   "id": "430420ca",
   "metadata": {},
   "outputs": [
    {
     "data": {
      "text/plain": [
       "{(1, 2, 3), 1, 2, 3, 'a'}"
      ]
     },
     "execution_count": 4,
     "metadata": {},
     "output_type": "execute_result"
    }
   ],
   "source": [
    "set"
   ]
  },
  {
   "cell_type": "code",
   "execution_count": 6,
   "id": "1f3569fc",
   "metadata": {},
   "outputs": [],
   "source": [
    "set2={}"
   ]
  },
  {
   "cell_type": "code",
   "execution_count": 7,
   "id": "66ff75ad",
   "metadata": {},
   "outputs": [
    {
     "data": {
      "text/plain": [
       "dict"
      ]
     },
     "execution_count": 7,
     "metadata": {},
     "output_type": "execute_result"
    }
   ],
   "source": [
    "type(set2)"
   ]
  },
  {
   "cell_type": "code",
   "execution_count": 8,
   "id": "8ed158a3",
   "metadata": {},
   "outputs": [],
   "source": [
    "set.add(500)"
   ]
  },
  {
   "cell_type": "code",
   "execution_count": 9,
   "id": "bcdfb1dd",
   "metadata": {},
   "outputs": [
    {
     "data": {
      "text/plain": [
       "{(1, 2, 3), 1, 2, 3, 500, 'a'}"
      ]
     },
     "execution_count": 9,
     "metadata": {},
     "output_type": "execute_result"
    }
   ],
   "source": [
    "set"
   ]
  },
  {
   "cell_type": "code",
   "execution_count": 12,
   "id": "fcf31073",
   "metadata": {},
   "outputs": [],
   "source": [
    "set.update([100])"
   ]
  },
  {
   "cell_type": "code",
   "execution_count": 13,
   "id": "8a01584b",
   "metadata": {},
   "outputs": [
    {
     "data": {
      "text/plain": [
       "{(1, 2, 3), 1, 10, 100, 2, 3, 500, 'a'}"
      ]
     },
     "execution_count": 13,
     "metadata": {},
     "output_type": "execute_result"
    }
   ],
   "source": [
    "set"
   ]
  },
  {
   "cell_type": "code",
   "execution_count": 14,
   "id": "c1bf3f0f",
   "metadata": {},
   "outputs": [],
   "source": [
    "set.remove('a') # it does not take mult values for deletion"
   ]
  },
  {
   "cell_type": "code",
   "execution_count": 15,
   "id": "8b369957",
   "metadata": {},
   "outputs": [
    {
     "data": {
      "text/plain": [
       "{(1, 2, 3), 1, 10, 100, 2, 3, 500}"
      ]
     },
     "execution_count": 15,
     "metadata": {},
     "output_type": "execute_result"
    }
   ],
   "source": [
    "set"
   ]
  },
  {
   "cell_type": "code",
   "execution_count": 18,
   "id": "4e99c095",
   "metadata": {},
   "outputs": [],
   "source": [
    "set.discard(10) #remove 10"
   ]
  },
  {
   "cell_type": "code",
   "execution_count": 19,
   "id": "54f48c53",
   "metadata": {},
   "outputs": [
    {
     "data": {
      "text/plain": [
       "{(1, 2, 3), 1, 100, 2, 3, 500}"
      ]
     },
     "execution_count": 19,
     "metadata": {},
     "output_type": "execute_result"
    }
   ],
   "source": [
    "set"
   ]
  },
  {
   "cell_type": "code",
   "execution_count": null,
   "id": "e0850238",
   "metadata": {},
   "outputs": [],
   "source": [
    "set.clear() # to remove whole set"
   ]
  },
  {
   "cell_type": "code",
   "execution_count": 20,
   "id": "a6296ec6",
   "metadata": {},
   "outputs": [
    {
     "data": {
      "text/plain": [
       "1"
      ]
     },
     "execution_count": 20,
     "metadata": {},
     "output_type": "execute_result"
    }
   ],
   "source": [
    "set.pop() # it cannot delete mult values at a time"
   ]
  },
  {
   "cell_type": "code",
   "execution_count": 21,
   "id": "a17f7b6c",
   "metadata": {},
   "outputs": [
    {
     "data": {
      "text/plain": [
       "{(1, 2, 3), 100, 2, 3, 500}"
      ]
     },
     "execution_count": 21,
     "metadata": {},
     "output_type": "execute_result"
    }
   ],
   "source": [
    "set"
   ]
  },
  {
   "cell_type": "code",
   "execution_count": null,
   "id": "968a51b0",
   "metadata": {},
   "outputs": [],
   "source": []
  }
 ],
 "metadata": {
  "kernelspec": {
   "display_name": "Python 3 (ipykernel)",
   "language": "python",
   "name": "python3"
  },
  "language_info": {
   "codemirror_mode": {
    "name": "ipython",
    "version": 3
   },
   "file_extension": ".py",
   "mimetype": "text/x-python",
   "name": "python",
   "nbconvert_exporter": "python",
   "pygments_lexer": "ipython3",
   "version": "3.10.2"
  }
 },
 "nbformat": 4,
 "nbformat_minor": 5
}
