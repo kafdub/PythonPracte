{
 "cells": [
  {
   "cell_type": "markdown",
   "id": "0acabbe3",
   "metadata": {},
   "source": [
    "# input function\n"
   ]
  },
  {
   "cell_type": "code",
   "execution_count": null,
   "id": "06a76eb4",
   "metadata": {},
   "outputs": [],
   "source": []
  },
  {
   "cell_type": "code",
   "execution_count": 2,
   "id": "8b6a27d0",
   "metadata": {},
   "outputs": [],
   "source": [
    "data = 'Shona Mia'"
   ]
  },
  {
   "cell_type": "code",
   "execution_count": 3,
   "id": "131ee504",
   "metadata": {},
   "outputs": [
    {
     "data": {
      "text/plain": [
       "str"
      ]
     },
     "execution_count": 3,
     "metadata": {},
     "output_type": "execute_result"
    }
   ],
   "source": [
    "type(data)"
   ]
  },
  {
   "cell_type": "code",
   "execution_count": 4,
   "id": "89bdfe5f",
   "metadata": {},
   "outputs": [
    {
     "name": "stdout",
     "output_type": "stream",
     "text": [
      "Shona Mia\n"
     ]
    }
   ],
   "source": [
    "data = input()"
   ]
  },
  {
   "cell_type": "code",
   "execution_count": 5,
   "id": "dfd25cd7",
   "metadata": {
    "scrolled": true
   },
   "outputs": [
    {
     "name": "stdout",
     "output_type": "stream",
     "text": [
      "10\n",
      "20\n"
     ]
    }
   ],
   "source": [
    "x = input ()\n",
    "y = input ()"
   ]
  },
  {
   "cell_type": "code",
   "execution_count": 6,
   "id": "6072993a",
   "metadata": {},
   "outputs": [
    {
     "data": {
      "text/plain": [
       "'1020'"
      ]
     },
     "execution_count": 6,
     "metadata": {},
     "output_type": "execute_result"
    }
   ],
   "source": [
    "x+ y"
   ]
  },
  {
   "cell_type": "code",
   "execution_count": 8,
   "id": "43baa7d5",
   "metadata": {},
   "outputs": [],
   "source": [
    "x = int(x)\n",
    "y = int(y)"
   ]
  },
  {
   "cell_type": "code",
   "execution_count": 9,
   "id": "c8dc10c8",
   "metadata": {},
   "outputs": [
    {
     "data": {
      "text/plain": [
       "30"
      ]
     },
     "execution_count": 9,
     "metadata": {},
     "output_type": "execute_result"
    }
   ],
   "source": [
    "x+y"
   ]
  },
  {
   "cell_type": "code",
   "execution_count": 10,
   "id": "7fd7b48a",
   "metadata": {},
   "outputs": [
    {
     "name": "stdout",
     "output_type": "stream",
     "text": [
      "Enter 1st number: 10\n",
      "Enter 2nd number: 20\n"
     ]
    }
   ],
   "source": [
    "x = int(input('Enter 1st number: '))\n",
    "y = int(input('Enter 2nd number: '))"
   ]
  },
  {
   "cell_type": "code",
   "execution_count": 11,
   "id": "24b61632",
   "metadata": {},
   "outputs": [
    {
     "data": {
      "text/plain": [
       "30"
      ]
     },
     "execution_count": 11,
     "metadata": {},
     "output_type": "execute_result"
    }
   ],
   "source": [
    "x+y"
   ]
  },
  {
   "cell_type": "code",
   "execution_count": 14,
   "id": "c5dff0b0",
   "metadata": {},
   "outputs": [
    {
     "name": "stdout",
     "output_type": "stream",
     "text": [
      "Enter 1st number: 15.6\n",
      "Enter 2nd number: 23.5\n"
     ]
    }
   ],
   "source": [
    "x = float(input('Enter 1st number: '))\n",
    "y = float(input('Enter 2nd number: '))"
   ]
  },
  {
   "cell_type": "code",
   "execution_count": 15,
   "id": "73903b63",
   "metadata": {},
   "outputs": [
    {
     "data": {
      "text/plain": [
       "39.1"
      ]
     },
     "execution_count": 15,
     "metadata": {},
     "output_type": "execute_result"
    }
   ],
   "source": [
    "x+y"
   ]
  },
  {
   "cell_type": "code",
   "execution_count": 17,
   "id": "aba6ed03",
   "metadata": {},
   "outputs": [],
   "source": [
    "d = 'Shona Mia'"
   ]
  },
  {
   "cell_type": "code",
   "execution_count": 18,
   "id": "4088c70b",
   "metadata": {},
   "outputs": [
    {
     "data": {
      "text/plain": [
       "9"
      ]
     },
     "execution_count": 18,
     "metadata": {},
     "output_type": "execute_result"
    }
   ],
   "source": [
    "len(d)"
   ]
  },
  {
   "cell_type": "code",
   "execution_count": 19,
   "id": "0252ddc1",
   "metadata": {},
   "outputs": [
    {
     "data": {
      "text/plain": [
       "str"
      ]
     },
     "execution_count": 19,
     "metadata": {},
     "output_type": "execute_result"
    }
   ],
   "source": [
    "type(d)"
   ]
  },
  {
   "cell_type": "code",
   "execution_count": 20,
   "id": "e84d24e6",
   "metadata": {},
   "outputs": [
    {
     "data": {
      "text/plain": [
       "58"
      ]
     },
     "execution_count": 20,
     "metadata": {},
     "output_type": "execute_result"
    }
   ],
   "source": [
    "import sys # used byte\n",
    "sys.getsizeof(d)"
   ]
  },
  {
   "cell_type": "code",
   "execution_count": 21,
   "id": "918387de",
   "metadata": {},
   "outputs": [
    {
     "data": {
      "text/plain": [
       "1"
      ]
     },
     "execution_count": 21,
     "metadata": {},
     "output_type": "execute_result"
    }
   ],
   "source": [
    "d.count('Mia') # How many times MIA repetead in the data - d"
   ]
  },
  {
   "cell_type": "code",
   "execution_count": 22,
   "id": "988c6635",
   "metadata": {},
   "outputs": [],
   "source": [
    "sub = 'Mia'"
   ]
  },
  {
   "cell_type": "code",
   "execution_count": 24,
   "id": "2fa7705b",
   "metadata": {},
   "outputs": [
    {
     "data": {
      "text/plain": [
       "1"
      ]
     },
     "execution_count": 24,
     "metadata": {},
     "output_type": "execute_result"
    }
   ],
   "source": [
    "d.count(sub) # same as above but defining MIA as a var"
   ]
  },
  {
   "cell_type": "markdown",
   "id": "afae3ebc",
   "metadata": {},
   "source": [
    "# Python String Methods"
   ]
  },
  {
   "cell_type": "code",
   "execution_count": 25,
   "id": "4728f26f",
   "metadata": {},
   "outputs": [
    {
     "data": {
      "text/plain": [
       "6"
      ]
     },
     "execution_count": 25,
     "metadata": {},
     "output_type": "execute_result"
    }
   ],
   "source": [
    "d = 'Shona Mia'\n",
    "data.find('Mia')  #position of MIA"
   ]
  },
  {
   "cell_type": "code",
   "execution_count": 35,
   "id": "5dbf15d8",
   "metadata": {},
   "outputs": [
    {
     "data": {
      "text/plain": [
       "4"
      ]
     },
     "execution_count": 35,
     "metadata": {},
     "output_type": "execute_result"
    }
   ],
   "source": [
    "data.find('a',3,7) # if A located in 3-7 digit from beginning. Located at 4. if not then returns -1"
   ]
  },
  {
   "cell_type": "code",
   "execution_count": 32,
   "id": "529fa02d",
   "metadata": {},
   "outputs": [
    {
     "data": {
      "text/plain": [
       "4"
      ]
     },
     "execution_count": 32,
     "metadata": {},
     "output_type": "execute_result"
    }
   ],
   "source": [
    "data.index('a') "
   ]
  },
  {
   "cell_type": "code",
   "execution_count": 36,
   "id": "12cba7f5",
   "metadata": {},
   "outputs": [
    {
     "data": {
      "text/plain": [
       "4"
      ]
     },
     "execution_count": 36,
     "metadata": {},
     "output_type": "execute_result"
    }
   ],
   "source": [
    "data.index('a',3,7) # index is same as FIND function but if the value not found then it returns ERROR"
   ]
  },
  {
   "cell_type": "code",
   "execution_count": 38,
   "id": "2084d590",
   "metadata": {},
   "outputs": [
    {
     "data": {
      "text/plain": [
       "'shona mia'"
      ]
     },
     "execution_count": 38,
     "metadata": {},
     "output_type": "execute_result"
    }
   ],
   "source": [
    "data.lower()"
   ]
  },
  {
   "cell_type": "code",
   "execution_count": 39,
   "id": "78f2cb37",
   "metadata": {},
   "outputs": [
    {
     "data": {
      "text/plain": [
       "'SHONA MIA'"
      ]
     },
     "execution_count": 39,
     "metadata": {},
     "output_type": "execute_result"
    }
   ],
   "source": [
    "data.upper()"
   ]
  },
  {
   "cell_type": "code",
   "execution_count": 41,
   "id": "31573321",
   "metadata": {},
   "outputs": [
    {
     "data": {
      "text/plain": [
       "'Shona mia'"
      ]
     },
     "execution_count": 41,
     "metadata": {},
     "output_type": "execute_result"
    }
   ],
   "source": [
    "d.capitalize() #converts only first digit inthe output"
   ]
  },
  {
   "cell_type": "code",
   "execution_count": 42,
   "id": "738fe375",
   "metadata": {},
   "outputs": [
    {
     "data": {
      "text/plain": [
       "'sHONA mIA'"
      ]
     },
     "execution_count": 42,
     "metadata": {},
     "output_type": "execute_result"
    }
   ],
   "source": [
    "d.swapcase()"
   ]
  },
  {
   "cell_type": "code",
   "execution_count": 45,
   "id": "f18bae86",
   "metadata": {},
   "outputs": [
    {
     "data": {
      "text/plain": [
       "'Shona Mia'"
      ]
     },
     "execution_count": 45,
     "metadata": {},
     "output_type": "execute_result"
    }
   ],
   "source": [
    "d.title() # Standard form"
   ]
  },
  {
   "cell_type": "code",
   "execution_count": 46,
   "id": "f523e20f",
   "metadata": {},
   "outputs": [
    {
     "data": {
      "text/plain": [
       "False"
      ]
     },
     "execution_count": 46,
     "metadata": {},
     "output_type": "execute_result"
    }
   ],
   "source": [
    "d.islower()"
   ]
  },
  {
   "cell_type": "code",
   "execution_count": 48,
   "id": "94022735",
   "metadata": {},
   "outputs": [
    {
     "data": {
      "text/plain": [
       "False"
      ]
     },
     "execution_count": 48,
     "metadata": {},
     "output_type": "execute_result"
    }
   ],
   "source": [
    "d.isupper()"
   ]
  },
  {
   "cell_type": "code",
   "execution_count": 49,
   "id": "28d07fe0",
   "metadata": {},
   "outputs": [
    {
     "data": {
      "text/plain": [
       "False"
      ]
     },
     "execution_count": 49,
     "metadata": {},
     "output_type": "execute_result"
    }
   ],
   "source": [
    "d.isdigit()"
   ]
  },
  {
   "cell_type": "code",
   "execution_count": 51,
   "id": "1322825d",
   "metadata": {},
   "outputs": [
    {
     "data": {
      "text/plain": [
       "b'Shona Mia'"
      ]
     },
     "execution_count": 51,
     "metadata": {},
     "output_type": "execute_result"
    }
   ],
   "source": [
    "d.encode()"
   ]
  },
  {
   "cell_type": "code",
   "execution_count": 52,
   "id": "4b8c167a",
   "metadata": {},
   "outputs": [
    {
     "data": {
      "text/plain": [
       "bytes"
      ]
     },
     "execution_count": 52,
     "metadata": {},
     "output_type": "execute_result"
    }
   ],
   "source": [
    "type(d.encode())"
   ]
  },
  {
   "cell_type": "code",
   "execution_count": 53,
   "id": "c38eeacf",
   "metadata": {},
   "outputs": [
    {
     "data": {
      "text/plain": [
       "['Shona', 'Mia']"
      ]
     },
     "execution_count": 53,
     "metadata": {},
     "output_type": "execute_result"
    }
   ],
   "source": [
    "d.split()"
   ]
  },
  {
   "cell_type": "code",
   "execution_count": 54,
   "id": "a5ff18d9",
   "metadata": {},
   "outputs": [
    {
     "data": {
      "text/plain": [
       "'Shona'"
      ]
     },
     "execution_count": 54,
     "metadata": {},
     "output_type": "execute_result"
    }
   ],
   "source": [
    "d.split()[0]"
   ]
  },
  {
   "cell_type": "code",
   "execution_count": 57,
   "id": "88acb70b",
   "metadata": {},
   "outputs": [
    {
     "data": {
      "text/plain": [
       "'                    Shona Mia                     '"
      ]
     },
     "execution_count": 57,
     "metadata": {},
     "output_type": "execute_result"
    }
   ],
   "source": [
    "d.center(50)"
   ]
  },
  {
   "cell_type": "code",
   "execution_count": 58,
   "id": "39a35988",
   "metadata": {},
   "outputs": [
    {
     "data": {
      "text/plain": [
       "'Sonar Mia'"
      ]
     },
     "execution_count": 58,
     "metadata": {},
     "output_type": "execute_result"
    }
   ],
   "source": [
    "d.replace('Shona','Sonar')"
   ]
  },
  {
   "cell_type": "code",
   "execution_count": 61,
   "id": "6aee3a00",
   "metadata": {},
   "outputs": [
    {
     "name": "stdout",
     "output_type": "stream",
     "text": [
      "I have:  1000 USD\n"
     ]
    }
   ],
   "source": [
    "x = 10\n",
    "y = 100\n",
    "z = x*y\n",
    "\n",
    "print('I have: ',z, 'USD')"
   ]
  },
  {
   "cell_type": "code",
   "execution_count": 62,
   "id": "ba950368",
   "metadata": {},
   "outputs": [
    {
     "name": "stdout",
     "output_type": "stream",
     "text": [
      "I have 1000 taka\n"
     ]
    }
   ],
   "source": [
    "print('I have {} taka'.format(z))"
   ]
  },
  {
   "cell_type": "code",
   "execution_count": null,
   "id": "f81692a3",
   "metadata": {},
   "outputs": [],
   "source": []
  },
  {
   "cell_type": "code",
   "execution_count": null,
   "id": "faaccec6",
   "metadata": {},
   "outputs": [],
   "source": []
  },
  {
   "cell_type": "code",
   "execution_count": null,
   "id": "7eec6b9c",
   "metadata": {},
   "outputs": [],
   "source": []
  }
 ],
 "metadata": {
  "kernelspec": {
   "display_name": "Python 3 (ipykernel)",
   "language": "python",
   "name": "python3"
  },
  "language_info": {
   "codemirror_mode": {
    "name": "ipython",
    "version": 3
   },
   "file_extension": ".py",
   "mimetype": "text/x-python",
   "name": "python",
   "nbconvert_exporter": "python",
   "pygments_lexer": "ipython3",
   "version": "3.10.2"
  }
 },
 "nbformat": 4,
 "nbformat_minor": 5
}
