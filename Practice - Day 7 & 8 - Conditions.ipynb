{
 "cells": [
  {
   "cell_type": "markdown",
   "id": "05c7fb7d",
   "metadata": {},
   "source": [
    "# if else "
   ]
  },
  {
   "cell_type": "code",
   "execution_count": 8,
   "id": "4e9b0310",
   "metadata": {},
   "outputs": [
    {
     "name": "stdout",
     "output_type": "stream",
     "text": [
      "100 is greater than 50\n",
      "tadaa\n",
      "Not equal\n"
     ]
    }
   ],
   "source": [
    "x = 50\n",
    "y = 100\n",
    "\n",
    "if x>y:\n",
    "    print('50 is greater than 100')\n",
    "if y > x:\n",
    "    print('100 is greater than 50')\n",
    "    print('tadaa')\n",
    "    if x != y:\n",
    "        print('Not equal')\n",
    "else:\n",
    "    print('Out!')\n"
   ]
  },
  {
   "cell_type": "code",
   "execution_count": 16,
   "id": "52751bce",
   "metadata": {},
   "outputs": [
    {
     "name": "stdout",
     "output_type": "stream",
     "text": [
      "Enter any number: 40\n",
      "40.0 Divisible by 5 & 2\n"
     ]
    }
   ],
   "source": [
    "num = float(input('Enter any number: '))\n",
    "\n",
    "# if residual of a divisor is 0\n",
    "if num % 2 ==0: \n",
    "    if num % 5 ==0:\n",
    "        print(num, 'Divisible by 5 & 2')\n",
    "    else:\n",
    "        print('Out!')\n",
    "else:\n",
    "    print('No')"
   ]
  },
  {
   "cell_type": "code",
   "execution_count": 18,
   "id": "d79398a1",
   "metadata": {},
   "outputs": [],
   "source": [
    "#from IPython.display import Image\n",
    "#Image('electricity.png')\n",
    "\n",
    "#Write a program to calculate the electricity bill (accept #units from user) according to he following:\n",
    "# Unit                Price\n",
    "#First 100 units      no charge\n",
    "#next 100 units       rs 5 per unit\n",
    "#after 200 units      rs 10 per unit (500 extra will be added)\n",
    "#for example if input unit is 350 than total bill amount would be Rs2000"
   ]
  },
  {
   "cell_type": "code",
   "execution_count": 25,
   "id": "4c931096",
   "metadata": {},
   "outputs": [
    {
     "name": "stdout",
     "output_type": "stream",
     "text": [
      "Enter your units: 100\n",
      "Amount is  0\n"
     ]
    }
   ],
   "source": [
    "amount = 0 \n",
    "units = float(input('Enter your units: '))\n",
    "\n",
    "if units <= 100:  #no additional charge\n",
    "    amount = 0\n",
    "\n",
    "elif units > 100 and units <= 200: # additional 5\n",
    "    amount = (units-100)*5\n",
    "\n",
    "elif units > 200: #additonal 10\n",
    "    amount = ((units-200)*10) + 500 \n",
    "\n",
    "print('Amount is ', amount)"
   ]
  },
  {
   "cell_type": "code",
   "execution_count": null,
   "id": "e7054368",
   "metadata": {},
   "outputs": [],
   "source": [
    "#Practice below excercises\n"
   ]
  },
  {
   "cell_type": "code",
   "execution_count": 86,
   "id": "3898590c",
   "metadata": {},
   "outputs": [
    {
     "name": "stdout",
     "output_type": "stream",
     "text": [
      "Enter your points: 68\n",
      " Your grade is:  D\n"
     ]
    }
   ],
   "source": [
    "#School grading:\n",
    "# <25 - F, 25-44 - E, 45-49-D, 50-59 - C, 60-69 - B, 80-89-A,>90-A=\n",
    "\n",
    "#grade = 0\n",
    "points = int(input('Enter your points: '))\n",
    "\n",
    "if points <50: \n",
    "    grade = 'F'\n",
    "elif points >= 50 and points <= 59:\n",
    "    grade = 'E'\n",
    "elif points >= 60 and points <= 69:\n",
    "    grade = 'D'\n",
    "elif points >= 70 and points <= 79:\n",
    "    grade = 'C'\n",
    "elif points >= 80 and points <= 89:\n",
    "    grade = 'B'\n",
    "elif points > 89 and points <= 100:\n",
    "    grade = 'A'\n",
    "elif points > 100:\n",
    "    print('Input a valid number between 1 and 100')\n",
    "\n",
    "print(' Your grade is: ', grade)\n"
   ]
  },
  {
   "cell_type": "code",
   "execution_count": 107,
   "id": "9db532d2",
   "metadata": {},
   "outputs": [
    {
     "name": "stdout",
     "output_type": "stream",
     "text": [
      "Enter your attendence is (%): 102\n",
      "Enter a valid number between 1 and 100\n"
     ]
    }
   ],
   "source": [
    "#A student will not be allowed to sit in exam if his/her attendence \n",
    "#is less than 75%.\n",
    "\n",
    "#exam = 0\n",
    "x = int(input('Enter your attendence is (%): '))\n",
    "\n",
    "if x >= 75 and x <=100:\n",
    "    print('You are allowed')\n",
    "elif x > 100:\n",
    "    print('Enter a valid number between 1 and 100')\n",
    "else: \n",
    "    print('You are NOT allowed')\n"
   ]
  },
  {
   "cell_type": "code",
   "execution_count": 110,
   "id": "4fbab4d1",
   "metadata": {},
   "outputs": [
    {
     "name": "stdout",
     "output_type": "stream",
     "text": [
      "Enter 1st value :12\n",
      "Enter 2nd value :25\n",
      "Enter 3rd value :23\n",
      "Largest value is : 25\n"
     ]
    }
   ],
   "source": [
    "#take three integer values from user and print greatest valu.\n",
    "\n",
    "v1 = int(input('Enter 1st value :'))\n",
    "v2 = int(input('Enter 2nd value :'))\n",
    "v3 = int(input('Enter 3rd value :'))\n",
    "\n",
    "if v1>v2 and v2>v3:\n",
    "    value = v1\n",
    "elif v1<v2 and v2>v3:\n",
    "    value =v2\n",
    "elif v1<v2 and v2<v3:\n",
    "    value =v3\n",
    "print('Largest value is :', value)\n",
    "\n"
   ]
  },
  {
   "cell_type": "code",
   "execution_count": 113,
   "id": "5abac0a4",
   "metadata": {},
   "outputs": [
    {
     "name": "stdout",
     "output_type": "stream",
     "text": [
      "Enter length of the rectangle: 22\n",
      "Enter width of the rectangle: 22\n",
      "Its a rectangle.\n"
     ]
    }
   ],
   "source": [
    "#Takes values of length and width of a rectangle from user input() and check it if is square or not.\n",
    "\n",
    "le = float(input('Enter length of the rectangle: '))\n",
    "wi = float(input('Enter width of the rectangle: '))\n",
    "\n",
    "if le == wi:\n",
    "    print('Its a rectangle.')\n",
    "else:\n",
    "    print('Its not a rectangle.')\n"
   ]
  },
  {
   "cell_type": "code",
   "execution_count": null,
   "id": "0d835b91",
   "metadata": {},
   "outputs": [],
   "source": []
  }
 ],
 "metadata": {
  "kernelspec": {
   "display_name": "Python 3 (ipykernel)",
   "language": "python",
   "name": "python3"
  },
  "language_info": {
   "codemirror_mode": {
    "name": "ipython",
    "version": 3
   },
   "file_extension": ".py",
   "mimetype": "text/x-python",
   "name": "python",
   "nbconvert_exporter": "python",
   "pygments_lexer": "ipython3",
   "version": "3.10.2"
  }
 },
 "nbformat": 4,
 "nbformat_minor": 5
}
