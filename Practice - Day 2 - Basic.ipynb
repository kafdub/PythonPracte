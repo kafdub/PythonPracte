{
 "cells": [
  {
   "cell_type": "code",
   "execution_count": 6,
   "id": "dd3498e9",
   "metadata": {},
   "outputs": [
    {
     "data": {
      "text/plain": [
       "'data science'"
      ]
     },
     "execution_count": 6,
     "metadata": {},
     "output_type": "execute_result"
    }
   ],
   "source": [
    "'data science'"
   ]
  },
  {
   "cell_type": "code",
   "execution_count": 8,
   "id": "48d591e6",
   "metadata": {},
   "outputs": [
    {
     "name": "stdout",
     "output_type": "stream",
     "text": [
      "Hellow World & Welcome to Python|"
     ]
    }
   ],
   "source": [
    "print('Hellow World', 'Welcome to Python', sep =' & ', end= '|')"
   ]
  },
  {
   "cell_type": "code",
   "execution_count": 13,
   "id": "01f38a36",
   "metadata": {},
   "outputs": [
    {
     "name": "stdout",
     "output_type": "stream",
     "text": [
      "Hellow Shona Mia\n"
     ]
    }
   ],
   "source": [
    "var = 'Shona Mia'\n",
    "print('Hellow '+ var)"
   ]
  },
  {
   "cell_type": "code",
   "execution_count": 14,
   "id": "549ff411",
   "metadata": {},
   "outputs": [
    {
     "data": {
      "text/plain": [
       "2114961033072"
      ]
     },
     "execution_count": 14,
     "metadata": {},
     "output_type": "execute_result"
    }
   ],
   "source": [
    "id(var) # var saved in the below location"
   ]
  },
  {
   "cell_type": "code",
   "execution_count": 15,
   "id": "28a7de33",
   "metadata": {},
   "outputs": [
    {
     "data": {
      "text/plain": [
       "58"
      ]
     },
     "execution_count": 15,
     "metadata": {},
     "output_type": "execute_result"
    }
   ],
   "source": [
    "import sys  # calculating space (byte) used by VAR. \n",
    "sys.getsizeof(var)"
   ]
  },
  {
   "cell_type": "code",
   "execution_count": 19,
   "id": "3c8cff85",
   "metadata": {},
   "outputs": [
    {
     "name": "stdout",
     "output_type": "stream",
     "text": [
      "My num is:  100\n"
     ]
    }
   ],
   "source": [
    "x = 100 # global variable\n",
    "\n",
    "def func1():\n",
    "    x=100 #local var\n",
    "    print('My num is: ', x)\n",
    "func1()"
   ]
  }
 ],
 "metadata": {
  "kernelspec": {
   "display_name": "Python 3 (ipykernel)",
   "language": "python",
   "name": "python3"
  },
  "language_info": {
   "codemirror_mode": {
    "name": "ipython",
    "version": 3
   },
   "file_extension": ".py",
   "mimetype": "text/x-python",
   "name": "python",
   "nbconvert_exporter": "python",
   "pygments_lexer": "ipython3",
   "version": "3.10.2"
  }
 },
 "nbformat": 4,
 "nbformat_minor": 5
}
