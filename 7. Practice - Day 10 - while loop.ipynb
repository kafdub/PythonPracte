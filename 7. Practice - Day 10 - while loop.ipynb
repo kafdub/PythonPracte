{
 "cells": [
  {
   "cell_type": "code",
   "execution_count": 6,
   "id": "f778380d",
   "metadata": {},
   "outputs": [
    {
     "name": "stdout",
     "output_type": "stream",
     "text": [
      "1\n",
      "2\n",
      "3\n",
      "4\n",
      "5\n",
      "6\n",
      "7\n",
      "8\n",
      "9\n",
      "10\n"
     ]
    }
   ],
   "source": [
    "i = 0\n",
    "while (i <10):\n",
    "    i = i+1     # or i +=1\n",
    "    print(i)"
   ]
  },
  {
   "cell_type": "code",
   "execution_count": 7,
   "id": "cc97fdc2",
   "metadata": {},
   "outputs": [
    {
     "name": "stdout",
     "output_type": "stream",
     "text": [
      "1 Shona Mia\n",
      "2 Shona Mia\n",
      "3 Shona Mia\n",
      "4 Shona Mia\n",
      "5 Shona Mia\n",
      "6 Shona Mia\n",
      "7 Shona Mia\n",
      "8 Shona Mia\n",
      "9 Shona Mia\n",
      "10 Shona Mia\n"
     ]
    }
   ],
   "source": [
    "i = 0\n",
    "while (i <10):\n",
    "    i = i+1     # or i +=1\n",
    "    print(i, 'Shona Mia')"
   ]
  },
  {
   "cell_type": "code",
   "execution_count": 12,
   "id": "76d416a9",
   "metadata": {},
   "outputs": [
    {
     "name": "stdout",
     "output_type": "stream",
     "text": [
      "2 Shona Mia\n",
      "4 Shona Mia\n",
      "6 Shona Mia\n",
      "8 Shona Mia\n",
      "10 Shona Mia\n"
     ]
    }
   ],
   "source": [
    "i = 0\n",
    "while (i <10):\n",
    "    i = i+2     \n",
    "    print(i, 'Shona Mia')"
   ]
  },
  {
   "cell_type": "code",
   "execution_count": 14,
   "id": "ce0a47ae",
   "metadata": {},
   "outputs": [
    {
     "data": {
      "text/plain": [
       "'p'"
      ]
     },
     "execution_count": 14,
     "metadata": {},
     "output_type": "execute_result"
    }
   ],
   "source": [
    "data = 'python'\n",
    "data[0]"
   ]
  },
  {
   "cell_type": "code",
   "execution_count": 18,
   "id": "17c81658",
   "metadata": {},
   "outputs": [
    {
     "name": "stdout",
     "output_type": "stream",
     "text": [
      "p\n",
      "y\n",
      "t\n",
      "h\n",
      "o\n",
      "n\n"
     ]
    }
   ],
   "source": [
    "index=0\n",
    "\n",
    "while index<len(data):\n",
    "    print(data[index])\n",
    "    index = index+1"
   ]
  },
  {
   "cell_type": "code",
   "execution_count": 24,
   "id": "0cdc63a1",
   "metadata": {},
   "outputs": [
    {
     "name": "stdout",
     "output_type": "stream",
     "text": [
      "S\n",
      "h\n",
      "o\n",
      "n\n",
      "a\n",
      " \n",
      "M\n",
      "i\n",
      "a\n"
     ]
    }
   ],
   "source": [
    "data = 'Shona Mia'\n",
    "index=0\n",
    "while index<len(data):\n",
    "    print(data[index])\n",
    "    index = index+1"
   ]
  },
  {
   "cell_type": "code",
   "execution_count": 25,
   "id": "4018b27b",
   "metadata": {},
   "outputs": [
    {
     "name": "stdout",
     "output_type": "stream",
     "text": [
      "Shona\n",
      "Mia\n"
     ]
    }
   ],
   "source": [
    "data = 'Shona Mia'\n",
    "data = data.split()\n",
    "index=0\n",
    "while index<len(data):\n",
    "    print(data[index])\n",
    "    index = index+1"
   ]
  },
  {
   "cell_type": "code",
   "execution_count": 30,
   "id": "62d04963",
   "metadata": {},
   "outputs": [
    {
     "name": "stdout",
     "output_type": "stream",
     "text": [
      "0 2\n",
      "1 5\n",
      "2 11\n",
      "3 16\n",
      "4 20\n",
      "5 27\n",
      "6 35\n"
     ]
    },
    {
     "ename": "IndexError",
     "evalue": "list index out of range",
     "output_type": "error",
     "traceback": [
      "\u001b[1;31m---------------------------------------------------------------------------\u001b[0m",
      "\u001b[1;31mIndexError\u001b[0m                                Traceback (most recent call last)",
      "Input \u001b[1;32mIn [30]\u001b[0m, in \u001b[0;36m<cell line: 4>\u001b[1;34m()\u001b[0m\n\u001b[0;32m      3\u001b[0m index\u001b[38;5;241m=\u001b[39m\u001b[38;5;241m0\u001b[39m\n\u001b[0;32m      4\u001b[0m \u001b[38;5;28;01mwhile\u001b[39;00m(index,\u001b[38;5;28mlen\u001b[39m(n)):\n\u001b[1;32m----> 5\u001b[0m     total \u001b[38;5;241m=\u001b[39m total \u001b[38;5;241m+\u001b[39m \u001b[43mn\u001b[49m\u001b[43m[\u001b[49m\u001b[43mindex\u001b[49m\u001b[43m]\u001b[49m\n\u001b[0;32m      6\u001b[0m     \u001b[38;5;28mprint\u001b[39m(index,total)\n\u001b[0;32m      7\u001b[0m     index \u001b[38;5;241m=\u001b[39m index\u001b[38;5;241m+\u001b[39m\u001b[38;5;241m1\u001b[39m\n",
      "\u001b[1;31mIndexError\u001b[0m: list index out of range"
     ]
    }
   ],
   "source": [
    "n = [2,3,6,5,4,7,8]\n",
    "total = 0\n",
    "index=0\n",
    "while(index,len(n)):\n",
    "    total = total + n[index]\n",
    "    print(index,total)\n",
    "    index = index+1"
   ]
  },
  {
   "cell_type": "code",
   "execution_count": 37,
   "id": "4351a41f",
   "metadata": {},
   "outputs": [
    {
     "ename": "IndexError",
     "evalue": "list index out of range",
     "output_type": "error",
     "traceback": [
      "\u001b[1;31m---------------------------------------------------------------------------\u001b[0m",
      "\u001b[1;31mIndexError\u001b[0m                                Traceback (most recent call last)",
      "Input \u001b[1;32mIn [37]\u001b[0m, in \u001b[0;36m<cell line: 4>\u001b[1;34m()\u001b[0m\n\u001b[0;32m      3\u001b[0m index \u001b[38;5;241m=\u001b[39m \u001b[38;5;241m0\u001b[39m\n\u001b[0;32m      4\u001b[0m \u001b[38;5;28;01mwhile\u001b[39;00m(index,\u001b[38;5;28mlen\u001b[39m(n)):\n\u001b[1;32m----> 5\u001b[0m     total \u001b[38;5;241m=\u001b[39m total \u001b[38;5;241m+\u001b[39m \u001b[43mn\u001b[49m\u001b[43m[\u001b[49m\u001b[43mindex\u001b[49m\u001b[43m]\u001b[49m\n\u001b[0;32m      6\u001b[0m     \u001b[38;5;66;03m#print(index,total)\u001b[39;00m\n\u001b[0;32m      7\u001b[0m     index \u001b[38;5;241m+\u001b[39m\u001b[38;5;241m=\u001b[39m \u001b[38;5;241m1\u001b[39m\n",
      "\u001b[1;31mIndexError\u001b[0m: list index out of range"
     ]
    }
   ],
   "source": [
    "n = [2,3,6,5,4,7,8]\n",
    "total = 0\n",
    "index = 0\n",
    "while(index,len(n)):\n",
    "    total = total + n[index]\n",
    "    #print(index,total)\n",
    "    index += 1\n",
    "print(total)"
   ]
  },
  {
   "cell_type": "code",
   "execution_count": null,
   "id": "75f62fc7",
   "metadata": {},
   "outputs": [],
   "source": []
  },
  {
   "cell_type": "code",
   "execution_count": null,
   "id": "f104534c",
   "metadata": {},
   "outputs": [],
   "source": []
  },
  {
   "cell_type": "code",
   "execution_count": null,
   "id": "b460d9b4",
   "metadata": {},
   "outputs": [],
   "source": []
  },
  {
   "cell_type": "code",
   "execution_count": null,
   "id": "849c1b5d",
   "metadata": {},
   "outputs": [],
   "source": []
  }
 ],
 "metadata": {
  "kernelspec": {
   "display_name": "Python 3 (ipykernel)",
   "language": "python",
   "name": "python3"
  },
  "language_info": {
   "codemirror_mode": {
    "name": "ipython",
    "version": 3
   },
   "file_extension": ".py",
   "mimetype": "text/x-python",
   "name": "python",
   "nbconvert_exporter": "python",
   "pygments_lexer": "ipython3",
   "version": "3.10.2"
  }
 },
 "nbformat": 4,
 "nbformat_minor": 5
}
