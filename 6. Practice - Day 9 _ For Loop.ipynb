{
 "cells": [
  {
   "cell_type": "code",
   "execution_count": 2,
   "id": "ab86da67",
   "metadata": {},
   "outputs": [],
   "source": [
    "data = 'python'\n"
   ]
  },
  {
   "cell_type": "code",
   "execution_count": 3,
   "id": "6388c79f",
   "metadata": {},
   "outputs": [
    {
     "data": {
      "text/plain": [
       "'p'"
      ]
     },
     "execution_count": 3,
     "metadata": {},
     "output_type": "execute_result"
    }
   ],
   "source": [
    "data[0]"
   ]
  },
  {
   "cell_type": "code",
   "execution_count": 4,
   "id": "66a482ef",
   "metadata": {},
   "outputs": [
    {
     "data": {
      "text/plain": [
       "'n'"
      ]
     },
     "execution_count": 4,
     "metadata": {},
     "output_type": "execute_result"
    }
   ],
   "source": [
    "data[-1]"
   ]
  },
  {
   "cell_type": "code",
   "execution_count": 6,
   "id": "75673db4",
   "metadata": {},
   "outputs": [
    {
     "name": "stdout",
     "output_type": "stream",
     "text": [
      "p\n",
      "y\n",
      "t\n",
      "h\n",
      "o\n",
      "n\n"
     ]
    }
   ],
   "source": [
    "for x in data:\n",
    "    print(x)\n",
    "    "
   ]
  },
  {
   "cell_type": "code",
   "execution_count": 7,
   "id": "dc2f4675",
   "metadata": {},
   "outputs": [
    {
     "name": "stdout",
     "output_type": "stream",
     "text": [
      "x\n",
      "x\n",
      "x\n",
      "x\n",
      "x\n",
      "x\n"
     ]
    }
   ],
   "source": [
    "for x in data:\n",
    "    print('x')"
   ]
  },
  {
   "cell_type": "code",
   "execution_count": 8,
   "id": "a889ed9c",
   "metadata": {},
   "outputs": [
    {
     "name": "stdout",
     "output_type": "stream",
     "text": [
      "p x\n",
      "y x\n",
      "t x\n",
      "h x\n",
      "o x\n",
      "n x\n"
     ]
    }
   ],
   "source": [
    "for x in data:\n",
    "    print(x,'x')"
   ]
  },
  {
   "cell_type": "code",
   "execution_count": 9,
   "id": "d89cef8c",
   "metadata": {},
   "outputs": [
    {
     "name": "stdout",
     "output_type": "stream",
     "text": [
      "p\n",
      "y\n",
      "t\n",
      "h\n",
      "o\n",
      "n\n"
     ]
    }
   ],
   "source": [
    "range(10)\n",
    "for x in range(len(data)): # len defines the time to run the loop\n",
    "    print(data[x])"
   ]
  },
  {
   "cell_type": "code",
   "execution_count": 11,
   "id": "8b93db13",
   "metadata": {},
   "outputs": [
    {
     "name": "stdout",
     "output_type": "stream",
     "text": [
      "p\n",
      "y\n",
      "t\n",
      "h\n",
      "o\n",
      "n\n"
     ]
    }
   ],
   "source": [
    "range(10)\n",
    "for i in range(len(data)): # len defines the time to run the loop\n",
    "    print(data[i])"
   ]
  },
  {
   "cell_type": "code",
   "execution_count": 20,
   "id": "2c1129c4",
   "metadata": {},
   "outputs": [
    {
     "name": "stdout",
     "output_type": "stream",
     "text": [
      "I\n",
      "am\n",
      "Shona\n",
      "Mia\n"
     ]
    }
   ],
   "source": [
    "data = 'I am Shona Mia'\n",
    "data =data.split() # split words\n",
    "for i in range(len(data)): # len defines the time to run the loop per word\n",
    "    print(data[i])"
   ]
  },
  {
   "cell_type": "code",
   "execution_count": 22,
   "id": "bdc43045",
   "metadata": {},
   "outputs": [
    {
     "name": "stdout",
     "output_type": "stream",
     "text": [
      "5 5\n",
      "50 5\n",
      "73 5\n",
      "136 5\n",
      "194 5\n"
     ]
    }
   ],
   "source": [
    "n = [5,45,23,63,58]\n",
    "total = 0\n",
    "for i in n:\n",
    "    total = total+i\n",
    "    print(total,x)"
   ]
  },
  {
   "cell_type": "code",
   "execution_count": 23,
   "id": "8f78044d",
   "metadata": {},
   "outputs": [
    {
     "name": "stdout",
     "output_type": "stream",
     "text": [
      "194\n"
     ]
    }
   ],
   "source": [
    "n = [5,45,23,63,58]\n",
    "total = 0\n",
    "for i in n:\n",
    "    total = total+i\n",
    "    #print(total,x)\n",
    "print(total)"
   ]
  },
  {
   "cell_type": "code",
   "execution_count": 25,
   "id": "46a47cc8",
   "metadata": {},
   "outputs": [
    {
     "name": "stdout",
     "output_type": "stream",
     "text": [
      "5 5\n",
      "50 5\n",
      "73 5\n",
      "136 5\n",
      "194 5\n",
      "Total 194\n"
     ]
    }
   ],
   "source": [
    "n = [5,45,23,63,58]\n",
    "total = 0\n",
    "for i in n:\n",
    "    total = total+i\n",
    "    print(total,x)\n",
    "print('Total',total)"
   ]
  },
  {
   "cell_type": "code",
   "execution_count": 26,
   "id": "01c98cd5",
   "metadata": {},
   "outputs": [
    {
     "name": "stdout",
     "output_type": "stream",
     "text": [
      "Shona Mia\n",
      "Shona Mia\n",
      "Shona Mia\n",
      "Shona Mia\n",
      "Shona Mia\n",
      "Shona Mia\n",
      "Shona Mia\n",
      "Shona Mia\n",
      "Shona Mia\n",
      "Shona Mia\n"
     ]
    }
   ],
   "source": [
    "for i in range(10):\n",
    "    print('Shona Mia')"
   ]
  },
  {
   "cell_type": "code",
   "execution_count": 27,
   "id": "f08fccd9",
   "metadata": {},
   "outputs": [
    {
     "name": "stdout",
     "output_type": "stream",
     "text": [
      "Shona Mia 0\n",
      "Shona Mia 1\n",
      "Shona Mia 2\n",
      "Shona Mia 3\n",
      "Shona Mia 4\n",
      "Shona Mia 5\n",
      "Shona Mia 6\n",
      "Shona Mia 7\n",
      "Shona Mia 8\n",
      "Shona Mia 9\n"
     ]
    }
   ],
   "source": [
    "for i in range(10):\n",
    "    print('Shona Mia',i)"
   ]
  },
  {
   "cell_type": "code",
   "execution_count": 28,
   "id": "635e160c",
   "metadata": {},
   "outputs": [
    {
     "name": "stdout",
     "output_type": "stream",
     "text": [
      "Shona Mia 5\n",
      "Shona Mia 6\n",
      "Shona Mia 7\n",
      "Shona Mia 8\n",
      "Shona Mia 9\n"
     ]
    }
   ],
   "source": [
    "for i in range(5,10):\n",
    "    print('Shona Mia',i)"
   ]
  },
  {
   "cell_type": "code",
   "execution_count": 29,
   "id": "d93c075f",
   "metadata": {},
   "outputs": [
    {
     "name": "stdout",
     "output_type": "stream",
     "text": [
      "Shona Mia 5\n",
      "Shona Mia 7\n",
      "Shona Mia 9\n"
     ]
    }
   ],
   "source": [
    "for i in range(5,10,2):\n",
    "    print('Shona Mia',i)"
   ]
  },
  {
   "cell_type": "code",
   "execution_count": 45,
   "id": "0b725e06",
   "metadata": {},
   "outputs": [
    {
     "name": "stdout",
     "output_type": "stream",
     "text": [
      "Shona Mia 100\n",
      "Shona Mia 90\n",
      "Shona Mia 80\n",
      "Shona Mia 70\n",
      "Shona Mia 60\n"
     ]
    }
   ],
   "source": [
    "for i in range(100,50,-10):\n",
    "    print('Shona Mia',i)"
   ]
  },
  {
   "cell_type": "code",
   "execution_count": null,
   "id": "142de8f4",
   "metadata": {},
   "outputs": [],
   "source": [
    "#Excercises"
   ]
  },
  {
   "cell_type": "code",
   "execution_count": 43,
   "id": "5f80bc31",
   "metadata": {},
   "outputs": [
    {
     "name": "stdout",
     "output_type": "stream",
     "text": [
      "-100\n",
      "-90\n",
      "-80\n",
      "-70\n",
      "-60\n",
      "-50\n",
      "-40\n",
      "-30\n",
      "-20\n",
      "-10\n"
     ]
    }
   ],
   "source": [
    "\n",
    "#1. Disp number from -100 to -10 using for loop\n",
    "\n",
    "for i in range(-100,0,10):\n",
    "    print(i)"
   ]
  },
  {
   "cell_type": "code",
   "execution_count": 74,
   "id": "d81dea3f",
   "metadata": {},
   "outputs": [
    {
     "name": "stdout",
     "output_type": "stream",
     "text": [
      "3682913\n"
     ]
    }
   ],
   "source": [
    "#Find sum of first 1000 prime numbers\n",
    "\n",
    "limit = 1000\n",
    "\n",
    "def is_prime(n):\n",
    "    for i in range(2, n):\n",
    "        if n%i == 0:\n",
    "            return False\n",
    "    return True\n",
    "\n",
    "sum = 0\n",
    "num = 2\n",
    "for i in range(limit):\n",
    "    while not is_prime(num):\n",
    "        num += 1\n",
    "    sum += num\n",
    "    num += 1 # sorry, miss this\n",
    "print (sum)"
   ]
  },
  {
   "cell_type": "code",
   "execution_count": 77,
   "id": "53267e2c",
   "metadata": {},
   "outputs": [
    {
     "name": "stdout",
     "output_type": "stream",
     "text": [
      "3682923\n"
     ]
    }
   ],
   "source": [
    "#2. Write a program to sum all prime numbers withina a range from 10 to 1000.\n",
    "limit = 1000\n",
    "\n",
    "def is_prime(n):\n",
    "    for i in range(2, n):\n",
    "        if n%i == 0:\n",
    "            return False\n",
    "    return True\n",
    "\n",
    "sum = 10\n",
    "num = 2\n",
    "for i in range(limit):\n",
    "    while not is_prime(num):\n",
    "        num += 1\n",
    "    sum += num\n",
    "    num += 1 # sorry, miss this\n",
    "print (sum)"
   ]
  },
  {
   "cell_type": "code",
   "execution_count": 78,
   "id": "ad82e485",
   "metadata": {},
   "outputs": [
    {
     "name": "stdout",
     "output_type": "stream",
     "text": [
      "990\n"
     ]
    }
   ],
   "source": [
    "\n",
    "total = 0\n",
    "for i in range(10,1000):\n",
    "    total = total+1\n",
    "print(total)"
   ]
  },
  {
   "cell_type": "code",
   "execution_count": null,
   "id": "506dd7de",
   "metadata": {},
   "outputs": [],
   "source": []
  },
  {
   "cell_type": "code",
   "execution_count": 87,
   "id": "3ebf1e12",
   "metadata": {},
   "outputs": [
    {
     "ename": "IndentationError",
     "evalue": "expected an indented block after 'else' statement on line 6 (1585313202.py, line 7)",
     "output_type": "error",
     "traceback": [
      "\u001b[1;36m  Input \u001b[1;32mIn [87]\u001b[1;36m\u001b[0m\n\u001b[1;33m    for i in range(1,num + 1):\u001b[0m\n\u001b[1;37m    ^\u001b[0m\n\u001b[1;31mIndentationError\u001b[0m\u001b[1;31m:\u001b[0m expected an indented block after 'else' statement on line 6\n"
     ]
    }
   ],
   "source": [
    "#3. find the factorial of a n! (hint - n=7:7*6*5*4*3*2*1)\n",
    "num = int(input('Enter a number: '))\n",
    "factorial =1\n",
    "if num == 0:\n",
    "    print(\"The factorial of 0 is 1\")\n",
    "else:\n",
    "for i in range(1,num + 1):\n",
    "    factorial = factorial*i\n",
    "    print(\"The factorial of\",num,\"is\",factorial)"
   ]
  },
  {
   "cell_type": "code",
   "execution_count": null,
   "id": "080a73b8",
   "metadata": {},
   "outputs": [],
   "source": []
  },
  {
   "cell_type": "code",
   "execution_count": null,
   "id": "7f9dc51e",
   "metadata": {},
   "outputs": [],
   "source": []
  },
  {
   "cell_type": "code",
   "execution_count": null,
   "id": "bc625219",
   "metadata": {},
   "outputs": [],
   "source": []
  },
  {
   "cell_type": "code",
   "execution_count": null,
   "id": "c50ddea2",
   "metadata": {},
   "outputs": [],
   "source": []
  },
  {
   "cell_type": "code",
   "execution_count": null,
   "id": "dd793a0c",
   "metadata": {},
   "outputs": [],
   "source": []
  },
  {
   "cell_type": "code",
   "execution_count": null,
   "id": "8f02f389",
   "metadata": {},
   "outputs": [],
   "source": []
  },
  {
   "cell_type": "code",
   "execution_count": null,
   "id": "609f7518",
   "metadata": {},
   "outputs": [],
   "source": []
  },
  {
   "cell_type": "code",
   "execution_count": null,
   "id": "77dd4604",
   "metadata": {},
   "outputs": [],
   "source": []
  },
  {
   "cell_type": "code",
   "execution_count": 69,
   "id": "d4b4e107",
   "metadata": {},
   "outputs": [
    {
     "name": "stdout",
     "output_type": "stream",
     "text": [
      "Enter an integer number: 123456\n",
      "The reverse number is =  654321\n"
     ]
    }
   ],
   "source": [
    "#4.Reserse a given int number 2796658423\n",
    "\n",
    "# take inputs\n",
    "num = int(input('Enter an integer number: '))\n",
    "\n",
    "# calculate reverse of number\n",
    "reverse = 0\n",
    "while(num > 0):\n",
    "    last_digit = num % 10\n",
    "    reverse = reverse * 10 + last_digit\n",
    "    num = num // 10\n",
    "\n",
    "# display result\n",
    "print('The reverse number is = ', reverse)"
   ]
  },
  {
   "cell_type": "code",
   "execution_count": 70,
   "id": "7218ab0a",
   "metadata": {},
   "outputs": [
    {
     "name": "stdout",
     "output_type": "stream",
     "text": [
      "Enter an integer number: 258\n",
      "The reverse number is = 852\n"
     ]
    }
   ],
   "source": [
    "# Python program to reverse a number using recursion\n",
    "\n",
    "reverse, base = 0, 1\n",
    "def findReverse(num):\n",
    "    global reverse  #function definition\n",
    "    global base   #function definition\n",
    "    if(num > 0):\n",
    "        findReverse((int)(num/10))\n",
    "        reverse += (num % 10) * base\n",
    "        base *= 10\n",
    "    return reverse\n",
    "\n",
    "# take inputs\n",
    "num = int(input('Enter an integer number: '))\n",
    "\n",
    "# display result\n",
    "print('The reverse number is =', findReverse(num))"
   ]
  },
  {
   "cell_type": "code",
   "execution_count": 71,
   "id": "c925a271",
   "metadata": {},
   "outputs": [
    {
     "name": "stdout",
     "output_type": "stream",
     "text": [
      "Enter an integer number: 33669\n",
      "The reverse number is =  96633\n"
     ]
    }
   ],
   "source": [
    "# Python program to reverse a number using slicing\n",
    "\n",
    "# take inputs\n",
    "num = int(input('Enter an integer number: '))\n",
    "\n",
    "# calculate reverse of number\n",
    "reverse = int(str(num)[::-1])\n",
    "\n",
    "# display result\n",
    "print('The reverse number is = ', reverse)"
   ]
  },
  {
   "cell_type": "code",
   "execution_count": null,
   "id": "be4fd06a",
   "metadata": {},
   "outputs": [],
   "source": []
  },
  {
   "cell_type": "code",
   "execution_count": null,
   "id": "53acb69b",
   "metadata": {},
   "outputs": [],
   "source": []
  }
 ],
 "metadata": {
  "kernelspec": {
   "display_name": "Python 3 (ipykernel)",
   "language": "python",
   "name": "python3"
  },
  "language_info": {
   "codemirror_mode": {
    "name": "ipython",
    "version": 3
   },
   "file_extension": ".py",
   "mimetype": "text/x-python",
   "name": "python",
   "nbconvert_exporter": "python",
   "pygments_lexer": "ipython3",
   "version": "3.10.2"
  }
 },
 "nbformat": 4,
 "nbformat_minor": 5
}
