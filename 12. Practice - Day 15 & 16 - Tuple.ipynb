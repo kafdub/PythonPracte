{
 "cells": [
  {
   "cell_type": "code",
   "execution_count": 6,
   "id": "e09cc938",
   "metadata": {},
   "outputs": [],
   "source": [
    "tuple = (1,23,44,'S',(1,2,3),[2,4])"
   ]
  },
  {
   "cell_type": "code",
   "execution_count": 8,
   "id": "e86269e5",
   "metadata": {},
   "outputs": [
    {
     "data": {
      "text/plain": [
       "'S'"
      ]
     },
     "execution_count": 8,
     "metadata": {},
     "output_type": "execute_result"
    }
   ],
   "source": [
    "tuple[3]"
   ]
  },
  {
   "cell_type": "code",
   "execution_count": 2,
   "id": "36f65dcb",
   "metadata": {},
   "outputs": [
    {
     "data": {
      "text/plain": [
       "(1, 23, 44, 'S', (1, 2, 3), [2, 4])"
      ]
     },
     "execution_count": 2,
     "metadata": {},
     "output_type": "execute_result"
    }
   ],
   "source": [
    "tuple"
   ]
  },
  {
   "cell_type": "code",
   "execution_count": 4,
   "id": "ccf119f8",
   "metadata": {},
   "outputs": [
    {
     "data": {
      "text/plain": [
       "tuple"
      ]
     },
     "execution_count": 4,
     "metadata": {},
     "output_type": "execute_result"
    }
   ],
   "source": [
    "type(tuple)"
   ]
  },
  {
   "cell_type": "code",
   "execution_count": 9,
   "id": "57bd3834",
   "metadata": {},
   "outputs": [
    {
     "data": {
      "text/plain": [
       "(44, 'S', (1, 2, 3))"
      ]
     },
     "execution_count": 9,
     "metadata": {},
     "output_type": "execute_result"
    }
   ],
   "source": [
    "tuple[2:5]"
   ]
  },
  {
   "cell_type": "code",
   "execution_count": 11,
   "id": "47194403",
   "metadata": {},
   "outputs": [],
   "source": [
    "tup = ('a')"
   ]
  },
  {
   "cell_type": "code",
   "execution_count": 12,
   "id": "62030aae",
   "metadata": {},
   "outputs": [
    {
     "data": {
      "text/plain": [
       "str"
      ]
     },
     "execution_count": 12,
     "metadata": {},
     "output_type": "execute_result"
    }
   ],
   "source": [
    "type(tup)"
   ]
  },
  {
   "cell_type": "code",
   "execution_count": 14,
   "id": "56440b2a",
   "metadata": {},
   "outputs": [],
   "source": [
    "tup1 = ('a',) #comma should be added at the end"
   ]
  },
  {
   "cell_type": "code",
   "execution_count": 15,
   "id": "c8065717",
   "metadata": {},
   "outputs": [
    {
     "data": {
      "text/plain": [
       "tuple"
      ]
     },
     "execution_count": 15,
     "metadata": {},
     "output_type": "execute_result"
    }
   ],
   "source": [
    "type(tup1)"
   ]
  },
  {
   "cell_type": "code",
   "execution_count": 24,
   "id": "834037a8",
   "metadata": {},
   "outputs": [],
   "source": [
    "l = list(tuple)"
   ]
  },
  {
   "cell_type": "code",
   "execution_count": 25,
   "id": "3102adc4",
   "metadata": {},
   "outputs": [],
   "source": [
    "l.append('Molla')"
   ]
  },
  {
   "cell_type": "code",
   "execution_count": 27,
   "id": "2cee0713",
   "metadata": {},
   "outputs": [
    {
     "data": {
      "text/plain": [
       "[1, 23, 44, 'S', (1, 2, 3), [2, 4], 'Molla']"
      ]
     },
     "execution_count": 27,
     "metadata": {},
     "output_type": "execute_result"
    }
   ],
   "source": [
    "l"
   ]
  },
  {
   "cell_type": "code",
   "execution_count": 28,
   "id": "fea76e08",
   "metadata": {},
   "outputs": [
    {
     "data": {
      "text/plain": [
       "(1, 23, 44, 'S', (1, 2, 3), [2, 4], 'a')"
      ]
     },
     "execution_count": 28,
     "metadata": {},
     "output_type": "execute_result"
    }
   ],
   "source": [
    "tuple + tup1"
   ]
  },
  {
   "cell_type": "code",
   "execution_count": 29,
   "id": "ed00f0c4",
   "metadata": {},
   "outputs": [],
   "source": [
    "tup4 = (1,2,3)"
   ]
  },
  {
   "cell_type": "code",
   "execution_count": 30,
   "id": "0a942202",
   "metadata": {},
   "outputs": [
    {
     "data": {
      "text/plain": [
       "tuple"
      ]
     },
     "execution_count": 30,
     "metadata": {},
     "output_type": "execute_result"
    }
   ],
   "source": [
    "type(tup4)"
   ]
  },
  {
   "cell_type": "code",
   "execution_count": 31,
   "id": "21c6b373",
   "metadata": {},
   "outputs": [
    {
     "data": {
      "text/plain": [
       "(1, 2, 3, 1, 2, 3, 1, 2, 3, 1, 2, 3)"
      ]
     },
     "execution_count": 31,
     "metadata": {},
     "output_type": "execute_result"
    }
   ],
   "source": [
    "tup4*4 * repetation of tuple"
   ]
  },
  {
   "cell_type": "code",
   "execution_count": 33,
   "id": "942274b9",
   "metadata": {},
   "outputs": [
    {
     "data": {
      "text/plain": [
       "1"
      ]
     },
     "execution_count": 33,
     "metadata": {},
     "output_type": "execute_result"
    }
   ],
   "source": [
    "tup4.count(2) # repetation of #2"
   ]
  },
  {
   "cell_type": "code",
   "execution_count": 34,
   "id": "bb8b01da",
   "metadata": {},
   "outputs": [
    {
     "data": {
      "text/plain": [
       "False"
      ]
     },
     "execution_count": 34,
     "metadata": {},
     "output_type": "execute_result"
    }
   ],
   "source": [
    "'a' in tuple"
   ]
  },
  {
   "cell_type": "code",
   "execution_count": 35,
   "id": "abe931f3",
   "metadata": {},
   "outputs": [
    {
     "data": {
      "text/plain": [
       "False"
      ]
     },
     "execution_count": 35,
     "metadata": {},
     "output_type": "execute_result"
    }
   ],
   "source": [
    "'b' in tuple"
   ]
  },
  {
   "cell_type": "code",
   "execution_count": 36,
   "id": "d82ca0ed",
   "metadata": {},
   "outputs": [],
   "source": [
    "del tup4 # delete whole tup4"
   ]
  },
  {
   "cell_type": "code",
   "execution_count": 39,
   "id": "3960fb32",
   "metadata": {},
   "outputs": [
    {
     "name": "stdout",
     "output_type": "stream",
     "text": [
      "1\n",
      "23\n",
      "44\n",
      "S\n",
      "(1, 2, 3)\n",
      "[2, 4]\n"
     ]
    }
   ],
   "source": [
    "for i in tuple:\n",
    "    print(i)"
   ]
  },
  {
   "cell_type": "code",
   "execution_count": 40,
   "id": "eb3a4df5",
   "metadata": {},
   "outputs": [
    {
     "data": {
      "text/plain": [
       "2"
      ]
     },
     "execution_count": 40,
     "metadata": {},
     "output_type": "execute_result"
    }
   ],
   "source": [
    "tuple[4][1]"
   ]
  },
  {
   "cell_type": "code",
   "execution_count": null,
   "id": "a02fba04",
   "metadata": {},
   "outputs": [],
   "source": []
  },
  {
   "cell_type": "code",
   "execution_count": null,
   "id": "49422daf",
   "metadata": {},
   "outputs": [],
   "source": []
  },
  {
   "cell_type": "code",
   "execution_count": null,
   "id": "df921111",
   "metadata": {},
   "outputs": [],
   "source": []
  }
 ],
 "metadata": {
  "kernelspec": {
   "display_name": "Python 3 (ipykernel)",
   "language": "python",
   "name": "python3"
  },
  "language_info": {
   "codemirror_mode": {
    "name": "ipython",
    "version": 3
   },
   "file_extension": ".py",
   "mimetype": "text/x-python",
   "name": "python",
   "nbconvert_exporter": "python",
   "pygments_lexer": "ipython3",
   "version": "3.10.2"
  }
 },
 "nbformat": 4,
 "nbformat_minor": 5
}
